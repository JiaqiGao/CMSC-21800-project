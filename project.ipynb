{
 "cells": [
  {
   "cell_type": "markdown",
   "metadata": {},
   "source": [
    "# Crime data in Chicago (January 1, 2010 to December 30, 2019)"
   ]
  },
  {
   "cell_type": "code",
   "execution_count": 1,
   "metadata": {},
   "outputs": [
    {
     "data": {
      "text/plain": [
       "ID                        int64\n",
       "Case Number              object\n",
       "Date                     object\n",
       "Block                    object\n",
       "IUCR                     object\n",
       "Primary Type             object\n",
       "Description              object\n",
       "Location Description     object\n",
       "Arrest                     bool\n",
       "Domestic                   bool\n",
       "Beat                      int64\n",
       "District                  int64\n",
       "Ward                    float64\n",
       "Community Area            int64\n",
       "FBI Code                 object\n",
       "X Coordinate            float64\n",
       "Y Coordinate            float64\n",
       "Year                      int64\n",
       "Updated On               object\n",
       "Latitude                float64\n",
       "Longitude               float64\n",
       "Location                 object\n",
       "dtype: object"
      ]
     },
     "execution_count": 1,
     "metadata": {},
     "output_type": "execute_result"
    }
   ],
   "source": [
    "import pandas as pd\n",
    "crime_data = pd.read_csv('2019_data.csv')\n",
    "crime_data.dtypes"
   ]
  },
  {
   "cell_type": "code",
   "execution_count": 2,
   "metadata": {},
   "outputs": [
    {
     "data": {
      "text/html": [
       "<div>\n",
       "<style scoped>\n",
       "    .dataframe tbody tr th:only-of-type {\n",
       "        vertical-align: middle;\n",
       "    }\n",
       "\n",
       "    .dataframe tbody tr th {\n",
       "        vertical-align: top;\n",
       "    }\n",
       "\n",
       "    .dataframe thead th {\n",
       "        text-align: right;\n",
       "    }\n",
       "</style>\n",
       "<table border=\"1\" class=\"dataframe\">\n",
       "  <thead>\n",
       "    <tr style=\"text-align: right;\">\n",
       "      <th></th>\n",
       "      <th>ID</th>\n",
       "      <th>Case Number</th>\n",
       "      <th>Date</th>\n",
       "      <th>Block</th>\n",
       "      <th>IUCR</th>\n",
       "      <th>Primary Type</th>\n",
       "      <th>Description</th>\n",
       "      <th>Location Description</th>\n",
       "      <th>Arrest</th>\n",
       "      <th>Domestic</th>\n",
       "      <th>...</th>\n",
       "      <th>X Coordinate</th>\n",
       "      <th>Y Coordinate</th>\n",
       "      <th>Year</th>\n",
       "      <th>Updated On</th>\n",
       "      <th>Latitude</th>\n",
       "      <th>Longitude</th>\n",
       "      <th>Location</th>\n",
       "      <th>Month</th>\n",
       "      <th>Day</th>\n",
       "      <th>Hour</th>\n",
       "    </tr>\n",
       "  </thead>\n",
       "  <tbody>\n",
       "    <tr>\n",
       "      <th>442309</th>\n",
       "      <td>12218191</td>\n",
       "      <td>JD427803</td>\n",
       "      <td>11/10/2020 11:23:00 PM</td>\n",
       "      <td>085XX W ARGYLE ST</td>\n",
       "      <td>0486</td>\n",
       "      <td>BATTERY</td>\n",
       "      <td>DOMESTIC BATTERY SIMPLE</td>\n",
       "      <td>APARTMENT</td>\n",
       "      <td>False</td>\n",
       "      <td>True</td>\n",
       "      <td>...</td>\n",
       "      <td>NaN</td>\n",
       "      <td>NaN</td>\n",
       "      <td>2020</td>\n",
       "      <td>11/17/2020 03:49:30 PM</td>\n",
       "      <td>NaN</td>\n",
       "      <td>NaN</td>\n",
       "      <td>NaN</td>\n",
       "      <td>11</td>\n",
       "      <td>10</td>\n",
       "      <td>23</td>\n",
       "    </tr>\n",
       "    <tr>\n",
       "      <th>442310</th>\n",
       "      <td>12218461</td>\n",
       "      <td>JD427924</td>\n",
       "      <td>11/10/2020 11:30:00 PM</td>\n",
       "      <td>098XX S INDIANA AVE</td>\n",
       "      <td>0910</td>\n",
       "      <td>MOTOR VEHICLE THEFT</td>\n",
       "      <td>AUTOMOBILE</td>\n",
       "      <td>STREET</td>\n",
       "      <td>False</td>\n",
       "      <td>False</td>\n",
       "      <td>...</td>\n",
       "      <td>NaN</td>\n",
       "      <td>NaN</td>\n",
       "      <td>2020</td>\n",
       "      <td>11/17/2020 03:49:30 PM</td>\n",
       "      <td>NaN</td>\n",
       "      <td>NaN</td>\n",
       "      <td>NaN</td>\n",
       "      <td>11</td>\n",
       "      <td>10</td>\n",
       "      <td>23</td>\n",
       "    </tr>\n",
       "    <tr>\n",
       "      <th>442311</th>\n",
       "      <td>12218119</td>\n",
       "      <td>JD427805</td>\n",
       "      <td>11/10/2020 11:30:00 PM</td>\n",
       "      <td>043XX W HADDON AVE</td>\n",
       "      <td>1310</td>\n",
       "      <td>CRIMINAL DAMAGE</td>\n",
       "      <td>TO PROPERTY</td>\n",
       "      <td>STREET</td>\n",
       "      <td>False</td>\n",
       "      <td>False</td>\n",
       "      <td>...</td>\n",
       "      <td>NaN</td>\n",
       "      <td>NaN</td>\n",
       "      <td>2020</td>\n",
       "      <td>11/17/2020 03:49:30 PM</td>\n",
       "      <td>NaN</td>\n",
       "      <td>NaN</td>\n",
       "      <td>NaN</td>\n",
       "      <td>11</td>\n",
       "      <td>10</td>\n",
       "      <td>23</td>\n",
       "    </tr>\n",
       "    <tr>\n",
       "      <th>442312</th>\n",
       "      <td>12219610</td>\n",
       "      <td>JD429300</td>\n",
       "      <td>11/10/2020 11:47:00 PM</td>\n",
       "      <td>058XX S KILBOURN AVE</td>\n",
       "      <td>1310</td>\n",
       "      <td>CRIMINAL DAMAGE</td>\n",
       "      <td>TO PROPERTY</td>\n",
       "      <td>RESIDENCE</td>\n",
       "      <td>False</td>\n",
       "      <td>False</td>\n",
       "      <td>...</td>\n",
       "      <td>NaN</td>\n",
       "      <td>NaN</td>\n",
       "      <td>2020</td>\n",
       "      <td>11/17/2020 03:49:30 PM</td>\n",
       "      <td>NaN</td>\n",
       "      <td>NaN</td>\n",
       "      <td>NaN</td>\n",
       "      <td>11</td>\n",
       "      <td>10</td>\n",
       "      <td>23</td>\n",
       "    </tr>\n",
       "  </tbody>\n",
       "</table>\n",
       "<p>4 rows × 25 columns</p>\n",
       "</div>"
      ],
      "text/plain": [
       "              ID Case Number                    Date                 Block  \\\n",
       "442309  12218191    JD427803  11/10/2020 11:23:00 PM     085XX W ARGYLE ST   \n",
       "442310  12218461    JD427924  11/10/2020 11:30:00 PM   098XX S INDIANA AVE   \n",
       "442311  12218119    JD427805  11/10/2020 11:30:00 PM    043XX W HADDON AVE   \n",
       "442312  12219610    JD429300  11/10/2020 11:47:00 PM  058XX S KILBOURN AVE   \n",
       "\n",
       "        IUCR         Primary Type              Description  \\\n",
       "442309  0486              BATTERY  DOMESTIC BATTERY SIMPLE   \n",
       "442310  0910  MOTOR VEHICLE THEFT               AUTOMOBILE   \n",
       "442311  1310      CRIMINAL DAMAGE              TO PROPERTY   \n",
       "442312  1310      CRIMINAL DAMAGE              TO PROPERTY   \n",
       "\n",
       "       Location Description  Arrest  Domestic  ...  X Coordinate  \\\n",
       "442309            APARTMENT   False      True  ...           NaN   \n",
       "442310               STREET   False     False  ...           NaN   \n",
       "442311               STREET   False     False  ...           NaN   \n",
       "442312            RESIDENCE   False     False  ...           NaN   \n",
       "\n",
       "        Y Coordinate  Year              Updated On Latitude  Longitude  \\\n",
       "442309           NaN  2020  11/17/2020 03:49:30 PM      NaN        NaN   \n",
       "442310           NaN  2020  11/17/2020 03:49:30 PM      NaN        NaN   \n",
       "442311           NaN  2020  11/17/2020 03:49:30 PM      NaN        NaN   \n",
       "442312           NaN  2020  11/17/2020 03:49:30 PM      NaN        NaN   \n",
       "\n",
       "        Location  Month Day  Hour  \n",
       "442309       NaN     11  10    23  \n",
       "442310       NaN     11  10    23  \n",
       "442311       NaN     11  10    23  \n",
       "442312       NaN     11  10    23  \n",
       "\n",
       "[4 rows x 25 columns]"
      ]
     },
     "execution_count": 2,
     "metadata": {},
     "output_type": "execute_result"
    }
   ],
   "source": [
    "import datetime\n",
    "\n",
    "cols_to_remove = list(crime_data)\n",
    "\n",
    "# Separating the date column into month, day, year, and time columns\n",
    "Months = []\n",
    "Days   = []\n",
    "Years  = []\n",
    "Hours  = []\n",
    "\n",
    "for row in crime_data['Date']:\n",
    "    d = datetime.datetime.strptime(row, '%m/%d/%Y %I:%M:%S %p')\n",
    "    Months.append(d.month)\n",
    "    Days.append(d.day)\n",
    "    Years.append(d.year)\n",
    "    Hours.append(d.hour)\n",
    "    \n",
    "crime_data['Month'] = Months\n",
    "crime_data['Day'] = Days\n",
    "crime_data['Year'] = Years\n",
    "crime_data['Hour'] = Hours\n",
    "\n",
    "crime_data[-4:]"
   ]
  },
  {
   "cell_type": "code",
   "execution_count": 19,
   "metadata": {},
   "outputs": [
    {
     "name": "stdout",
     "output_type": "stream",
     "text": [
      "['Arrest', 'Location Description', 'Domestic', 'District', 'Primary Type', 'Community Area']\n"
     ]
    },
    {
     "ename": "KeyError",
     "evalue": "'Arrest'",
     "output_type": "error",
     "traceback": [
      "\u001b[0;31m---------------------------------------------------------------------------\u001b[0m",
      "\u001b[0;31mKeyError\u001b[0m                                  Traceback (most recent call last)",
      "\u001b[0;32m/anaconda3/lib/python3.7/site-packages/pandas/core/indexes/base.py\u001b[0m in \u001b[0;36mget_loc\u001b[0;34m(self, key, method, tolerance)\u001b[0m\n\u001b[1;32m   2656\u001b[0m             \u001b[0;32mtry\u001b[0m\u001b[0;34m:\u001b[0m\u001b[0;34m\u001b[0m\u001b[0;34m\u001b[0m\u001b[0m\n\u001b[0;32m-> 2657\u001b[0;31m                 \u001b[0;32mreturn\u001b[0m \u001b[0mself\u001b[0m\u001b[0;34m.\u001b[0m\u001b[0m_engine\u001b[0m\u001b[0;34m.\u001b[0m\u001b[0mget_loc\u001b[0m\u001b[0;34m(\u001b[0m\u001b[0mkey\u001b[0m\u001b[0;34m)\u001b[0m\u001b[0;34m\u001b[0m\u001b[0;34m\u001b[0m\u001b[0m\n\u001b[0m\u001b[1;32m   2658\u001b[0m             \u001b[0;32mexcept\u001b[0m \u001b[0mKeyError\u001b[0m\u001b[0;34m:\u001b[0m\u001b[0;34m\u001b[0m\u001b[0;34m\u001b[0m\u001b[0m\n",
      "\u001b[0;32mpandas/_libs/index.pyx\u001b[0m in \u001b[0;36mpandas._libs.index.IndexEngine.get_loc\u001b[0;34m()\u001b[0m\n",
      "\u001b[0;32mpandas/_libs/index.pyx\u001b[0m in \u001b[0;36mpandas._libs.index.IndexEngine.get_loc\u001b[0;34m()\u001b[0m\n",
      "\u001b[0;32mpandas/_libs/hashtable_class_helper.pxi\u001b[0m in \u001b[0;36mpandas._libs.hashtable.PyObjectHashTable.get_item\u001b[0;34m()\u001b[0m\n",
      "\u001b[0;32mpandas/_libs/hashtable_class_helper.pxi\u001b[0m in \u001b[0;36mpandas._libs.hashtable.PyObjectHashTable.get_item\u001b[0;34m()\u001b[0m\n",
      "\u001b[0;31mKeyError\u001b[0m: 'Arrest'",
      "\nDuring handling of the above exception, another exception occurred:\n",
      "\u001b[0;31mKeyError\u001b[0m                                  Traceback (most recent call last)",
      "\u001b[0;32m<ipython-input-19-1f3ebb1e2226>\u001b[0m in \u001b[0;36m<module>\u001b[0;34m\u001b[0m\n\u001b[1;32m      3\u001b[0m \u001b[0mprint\u001b[0m\u001b[0;34m(\u001b[0m\u001b[0mdiscrete_variables\u001b[0m\u001b[0;34m)\u001b[0m\u001b[0;34m\u001b[0m\u001b[0;34m\u001b[0m\u001b[0m\n\u001b[1;32m      4\u001b[0m \u001b[0;32mfor\u001b[0m \u001b[0mvariable\u001b[0m \u001b[0;32min\u001b[0m \u001b[0mdiscrete_variables\u001b[0m\u001b[0;34m:\u001b[0m\u001b[0;34m\u001b[0m\u001b[0;34m\u001b[0m\u001b[0m\n\u001b[0;32m----> 5\u001b[0;31m     \u001b[0;32mfor\u001b[0m \u001b[0mdtype\u001b[0m \u001b[0;32min\u001b[0m \u001b[0mcrime_data\u001b[0m\u001b[0;34m[\u001b[0m\u001b[0mvariable\u001b[0m\u001b[0;34m]\u001b[0m\u001b[0;34m.\u001b[0m\u001b[0mdropna\u001b[0m\u001b[0;34m(\u001b[0m\u001b[0;34m)\u001b[0m\u001b[0;34m.\u001b[0m\u001b[0munique\u001b[0m\u001b[0;34m(\u001b[0m\u001b[0;34m)\u001b[0m\u001b[0;34m:\u001b[0m\u001b[0;34m\u001b[0m\u001b[0;34m\u001b[0m\u001b[0m\n\u001b[0m\u001b[1;32m      6\u001b[0m         \u001b[0;32mif\u001b[0m \u001b[0;34m(\u001b[0m\u001b[0mdtype\u001b[0m \u001b[0;34m!=\u001b[0m \u001b[0;34m\"nan\"\u001b[0m\u001b[0;34m)\u001b[0m\u001b[0;34m:\u001b[0m\u001b[0;34m\u001b[0m\u001b[0;34m\u001b[0m\u001b[0m\n\u001b[1;32m      7\u001b[0m             \u001b[0mcrime_data\u001b[0m\u001b[0;34m[\u001b[0m\u001b[0mvariable\u001b[0m\u001b[0;34m+\u001b[0m\u001b[0;34m\"_\"\u001b[0m\u001b[0;34m+\u001b[0m\u001b[0mstr\u001b[0m\u001b[0;34m(\u001b[0m\u001b[0mdtype\u001b[0m\u001b[0;34m)\u001b[0m\u001b[0;34m]\u001b[0m  \u001b[0;34m=\u001b[0m \u001b[0;36m1\u001b[0m\u001b[0;34m*\u001b[0m\u001b[0;34m(\u001b[0m\u001b[0mcrime_data\u001b[0m\u001b[0;34m[\u001b[0m\u001b[0mvariable\u001b[0m\u001b[0;34m]\u001b[0m \u001b[0;34m==\u001b[0m \u001b[0mdtype\u001b[0m\u001b[0;34m)\u001b[0m\u001b[0;34m\u001b[0m\u001b[0;34m\u001b[0m\u001b[0m\n",
      "\u001b[0;32m/anaconda3/lib/python3.7/site-packages/pandas/core/frame.py\u001b[0m in \u001b[0;36m__getitem__\u001b[0;34m(self, key)\u001b[0m\n\u001b[1;32m   2925\u001b[0m             \u001b[0;32mif\u001b[0m \u001b[0mself\u001b[0m\u001b[0;34m.\u001b[0m\u001b[0mcolumns\u001b[0m\u001b[0;34m.\u001b[0m\u001b[0mnlevels\u001b[0m \u001b[0;34m>\u001b[0m \u001b[0;36m1\u001b[0m\u001b[0;34m:\u001b[0m\u001b[0;34m\u001b[0m\u001b[0;34m\u001b[0m\u001b[0m\n\u001b[1;32m   2926\u001b[0m                 \u001b[0;32mreturn\u001b[0m \u001b[0mself\u001b[0m\u001b[0;34m.\u001b[0m\u001b[0m_getitem_multilevel\u001b[0m\u001b[0;34m(\u001b[0m\u001b[0mkey\u001b[0m\u001b[0;34m)\u001b[0m\u001b[0;34m\u001b[0m\u001b[0;34m\u001b[0m\u001b[0m\n\u001b[0;32m-> 2927\u001b[0;31m             \u001b[0mindexer\u001b[0m \u001b[0;34m=\u001b[0m \u001b[0mself\u001b[0m\u001b[0;34m.\u001b[0m\u001b[0mcolumns\u001b[0m\u001b[0;34m.\u001b[0m\u001b[0mget_loc\u001b[0m\u001b[0;34m(\u001b[0m\u001b[0mkey\u001b[0m\u001b[0;34m)\u001b[0m\u001b[0;34m\u001b[0m\u001b[0;34m\u001b[0m\u001b[0m\n\u001b[0m\u001b[1;32m   2928\u001b[0m             \u001b[0;32mif\u001b[0m \u001b[0mis_integer\u001b[0m\u001b[0;34m(\u001b[0m\u001b[0mindexer\u001b[0m\u001b[0;34m)\u001b[0m\u001b[0;34m:\u001b[0m\u001b[0;34m\u001b[0m\u001b[0;34m\u001b[0m\u001b[0m\n\u001b[1;32m   2929\u001b[0m                 \u001b[0mindexer\u001b[0m \u001b[0;34m=\u001b[0m \u001b[0;34m[\u001b[0m\u001b[0mindexer\u001b[0m\u001b[0;34m]\u001b[0m\u001b[0;34m\u001b[0m\u001b[0;34m\u001b[0m\u001b[0m\n",
      "\u001b[0;32m/anaconda3/lib/python3.7/site-packages/pandas/core/indexes/base.py\u001b[0m in \u001b[0;36mget_loc\u001b[0;34m(self, key, method, tolerance)\u001b[0m\n\u001b[1;32m   2657\u001b[0m                 \u001b[0;32mreturn\u001b[0m \u001b[0mself\u001b[0m\u001b[0;34m.\u001b[0m\u001b[0m_engine\u001b[0m\u001b[0;34m.\u001b[0m\u001b[0mget_loc\u001b[0m\u001b[0;34m(\u001b[0m\u001b[0mkey\u001b[0m\u001b[0;34m)\u001b[0m\u001b[0;34m\u001b[0m\u001b[0;34m\u001b[0m\u001b[0m\n\u001b[1;32m   2658\u001b[0m             \u001b[0;32mexcept\u001b[0m \u001b[0mKeyError\u001b[0m\u001b[0;34m:\u001b[0m\u001b[0;34m\u001b[0m\u001b[0;34m\u001b[0m\u001b[0m\n\u001b[0;32m-> 2659\u001b[0;31m                 \u001b[0;32mreturn\u001b[0m \u001b[0mself\u001b[0m\u001b[0;34m.\u001b[0m\u001b[0m_engine\u001b[0m\u001b[0;34m.\u001b[0m\u001b[0mget_loc\u001b[0m\u001b[0;34m(\u001b[0m\u001b[0mself\u001b[0m\u001b[0;34m.\u001b[0m\u001b[0m_maybe_cast_indexer\u001b[0m\u001b[0;34m(\u001b[0m\u001b[0mkey\u001b[0m\u001b[0;34m)\u001b[0m\u001b[0;34m)\u001b[0m\u001b[0;34m\u001b[0m\u001b[0;34m\u001b[0m\u001b[0m\n\u001b[0m\u001b[1;32m   2660\u001b[0m         \u001b[0mindexer\u001b[0m \u001b[0;34m=\u001b[0m \u001b[0mself\u001b[0m\u001b[0;34m.\u001b[0m\u001b[0mget_indexer\u001b[0m\u001b[0;34m(\u001b[0m\u001b[0;34m[\u001b[0m\u001b[0mkey\u001b[0m\u001b[0;34m]\u001b[0m\u001b[0;34m,\u001b[0m \u001b[0mmethod\u001b[0m\u001b[0;34m=\u001b[0m\u001b[0mmethod\u001b[0m\u001b[0;34m,\u001b[0m \u001b[0mtolerance\u001b[0m\u001b[0;34m=\u001b[0m\u001b[0mtolerance\u001b[0m\u001b[0;34m)\u001b[0m\u001b[0;34m\u001b[0m\u001b[0;34m\u001b[0m\u001b[0m\n\u001b[1;32m   2661\u001b[0m         \u001b[0;32mif\u001b[0m \u001b[0mindexer\u001b[0m\u001b[0;34m.\u001b[0m\u001b[0mndim\u001b[0m \u001b[0;34m>\u001b[0m \u001b[0;36m1\u001b[0m \u001b[0;32mor\u001b[0m \u001b[0mindexer\u001b[0m\u001b[0;34m.\u001b[0m\u001b[0msize\u001b[0m \u001b[0;34m>\u001b[0m \u001b[0;36m1\u001b[0m\u001b[0;34m:\u001b[0m\u001b[0;34m\u001b[0m\u001b[0;34m\u001b[0m\u001b[0m\n",
      "\u001b[0;32mpandas/_libs/index.pyx\u001b[0m in \u001b[0;36mpandas._libs.index.IndexEngine.get_loc\u001b[0;34m()\u001b[0m\n",
      "\u001b[0;32mpandas/_libs/index.pyx\u001b[0m in \u001b[0;36mpandas._libs.index.IndexEngine.get_loc\u001b[0;34m()\u001b[0m\n",
      "\u001b[0;32mpandas/_libs/hashtable_class_helper.pxi\u001b[0m in \u001b[0;36mpandas._libs.hashtable.PyObjectHashTable.get_item\u001b[0;34m()\u001b[0m\n",
      "\u001b[0;32mpandas/_libs/hashtable_class_helper.pxi\u001b[0m in \u001b[0;36mpandas._libs.hashtable.PyObjectHashTable.get_item\u001b[0;34m()\u001b[0m\n",
      "\u001b[0;31mKeyError\u001b[0m: 'Arrest'"
     ]
    }
   ],
   "source": [
    "# 1-hot encoding for: Arrest, Location Description, Domestic, District, Primary Type, Community Area\n",
    "discrete_variables = \"Arrest, Location Description, Domestic, District, Primary Type, Community Area\".split(\", \")\n",
    "print(discrete_variables)\n",
    "for variable in discrete_variables:\n",
    "    for dtype in crime_data[variable].dropna().unique():\n",
    "        if (dtype != \"nan\"):\n",
    "            crime_data[variable+\"_\"+str(dtype)]  = 1*(crime_data[variable] == dtype)\n",
    "\n",
    "crime_data = crime_data.drop(columns=cols_to_remove)\n",
    "crime_data = crime_data.drop(columns=['Arrest_False','Domestic_False'])\n",
    "crime_data[-4:]\n"
   ]
  },
  {
   "cell_type": "code",
   "execution_count": 20,
   "metadata": {},
   "outputs": [
    {
     "data": {
      "text/plain": [
       "Month                                                     0.294727\n",
       "Day                                                       0.296365\n",
       "Hour                                                      0.287398\n",
       "Arrest_True                                               0.394082\n",
       "Location Description_APARTMENT                            0.353474\n",
       "Location Description_RESIDENCE                            0.374852\n",
       "Location Description_STREET                               0.418986\n",
       "Location Description_RESIDENCE PORCH/HALLWAY              0.111638\n",
       "Location Description_SCHOOL, PRIVATE, BUILDING            0.039779\n",
       "Location Description_OTHER                                0.161790\n",
       "Location Description_DAY CARE CENTER                      0.025641\n",
       "Location Description_PARKING LOT/GARAGE(NON.RESID.)       0.136621\n",
       "Location Description_RESTAURANT                           0.150254\n",
       "Location Description_RESIDENCE-GARAGE                     0.089514\n",
       "Location Description_BAR OR TAVERN                        0.080415\n",
       "Location Description_RESIDENTIAL YARD (FRONT/BACK)        0.107685\n",
       "Location Description_SCHOOL - PUBLIC BUILDING             0.030800\n",
       "Location Description_SCHOOL - PUBLIC GROUNDS              0.021046\n",
       "Location Description_OTHER (SPECIFY)                      0.101087\n",
       "Location Description_COMMERCIAL / BUSINESS OFFICE         0.080954\n",
       "Location Description_ALLEY                                0.143153\n",
       "Location Description_CTA GARAGE / OTHER PROPERTY          0.026164\n",
       "Location Description_HOTEL/MOTEL                          0.059848\n",
       "Location Description_SIDEWALK                             0.260904\n",
       "Location Description_CHURCH/SYNAGOGUE/PLACE OF WORSHIP    0.035048\n",
       "Location Description_CONVENIENCE STORE                    0.094266\n",
       "Location Description_GAS STATION                          0.122302\n",
       "Location Description_SMALL RETAIL STORE                   0.160482\n",
       "Location Description_VEHICLE NON-COMMERCIAL               0.129159\n",
       "Location Description_CTA BUS STOP                         0.046149\n",
       "                                                            ...   \n",
       "Community Area_35                                         0.101186\n",
       "Community Area_33                                         0.084880\n",
       "Community Area_32                                         0.181812\n",
       "Community Area_48                                         0.075191\n",
       "Community Area_72                                         0.059867\n",
       "Community Area_36                                         0.051034\n",
       "Community Area_50                                         0.066268\n",
       "Community Area_13                                         0.057201\n",
       "Community Area_64                                         0.060926\n",
       "Community Area_47                                         0.038891\n",
       "Community Area_16                                         0.099386\n",
       "Community Area_70                                         0.093889\n",
       "Community Area_21                                         0.090846\n",
       "Community Area_62                                         0.058271\n",
       "Community Area_51                                         0.085690\n",
       "Community Area_61                                         0.127969\n",
       "Community Area_77                                         0.100538\n",
       "Community Area_57                                         0.056131\n",
       "Community Area_2                                          0.116595\n",
       "Community Area_40                                         0.094982\n",
       "Community Area_34                                         0.063186\n",
       "Community Area_11                                         0.062794\n",
       "Community Area_52                                         0.063962\n",
       "Community Area_74                                         0.044307\n",
       "Community Area_59                                         0.057534\n",
       "Community Area_17                                         0.074339\n",
       "Community Area_10                                         0.066353\n",
       "Community Area_9                                          0.032021\n",
       "Community Area_37                                         0.058020\n",
       "Community Area_12                                         0.044762\n",
       "Length: 310, dtype: float64"
      ]
     },
     "execution_count": 20,
     "metadata": {},
     "output_type": "execute_result"
    },
    {
     "data": {
      "image/png": "[encoded data removed]",
      "text/plain": [
       "<Figure size 432x288 with 1 Axes>"
      ]
     },
     "metadata": {
      "needs_background": "light"
     },
     "output_type": "display_data"
    }
   ],
   "source": [
    "\n",
    "arr_true = crime_data[crime_data['Arrest_True'] == 1]\n",
    "ax = arr_true['Month'].plot.hist(bins=12)\n",
    "crime_data.std()"
   ]
  },
  {
   "cell_type": "code",
   "execution_count": 5,
   "metadata": {},
   "outputs": [
    {
     "data": {
      "text/plain": [
       "Location Description_BASEMENT                                           0.001504\n",
       "Location Description_CHA PLAY LOT                                       0.001504\n",
       "Location Description_GANGWAY                                            0.001504\n",
       "Location Description_RAILROAD PROPERTY                                  0.001504\n",
       "Location Description_TRAILER                                            0.001504\n",
       "Location Description_CTA SUBWAY STATION                                 0.001504\n",
       "Location Description_HORSE STABLE                                       0.001504\n",
       "Location Description_NURSING HOME                                       0.001504\n",
       "Location Description_LIQUOR STORE                                       0.001504\n",
       "Location Description_CLUB                                               0.001504\n",
       "Location Description_CHA HALLWAY                                        0.001504\n",
       "Location Description_MOTEL                                              0.001504\n",
       "Location Description_OFFICE                                             0.001504\n",
       "Location Description_LAKE                                               0.001504\n",
       "Location Description_SCHOOL YARD                                        0.001504\n",
       "Location Description_VEHICLE - COMMERCIAL: TROLLEY BUS                  0.002126\n",
       "Location Description_CTA PROPERTY                                       0.002126\n",
       "Location Description_STAIRWELL                                          0.002126\n",
       "Location Description_VEHICLE-COMMERCIAL - ENTERTAINMENT/PARTY BUS       0.002126\n",
       "Location Description_CHA GROUNDS                                        0.002126\n",
       "Location Description_CTA \"L\" PLATFORM                                   0.002604\n",
       "Location Description_HOSPITAL                                           0.002604\n",
       "Location Description_BARBER SHOP/BEAUTY SALON                           0.002604\n",
       "Location Description_GARAGE                                             0.002604\n",
       "Location Description_VEHICLE - COMMERCIAL: ENTERTAINMENT / PARTY BUS    0.003007\n",
       "Location Description_VESTIBULE                                          0.003007\n",
       "Location Description_FARM                                               0.003007\n",
       "Location Description_VEHICLE-COMMERCIAL - TROLLEY BUS                   0.003007\n",
       "Primary Type_NON-CRIMINAL                                               0.003362\n",
       "Location Description_GAS STATION DRIVE/PROP.                            0.003362\n",
       "                                                                          ...   \n",
       "District_19                                                             0.207145\n",
       "District_5                                                              0.208648\n",
       "District_10                                                             0.213824\n",
       "Primary Type_NARCOTICS                                                  0.213996\n",
       "District_12                                                             0.216799\n",
       "District_3                                                              0.217250\n",
       "District_25                                                             0.219758\n",
       "District_1                                                              0.220160\n",
       "District_18                                                             0.221295\n",
       "District_7                                                              0.226606\n",
       "District_4                                                              0.228930\n",
       "Community Area_25                                                       0.233940\n",
       "District_8                                                              0.239119\n",
       "Primary Type_OTHER OFFENSE                                              0.241851\n",
       "District_6                                                              0.247678\n",
       "Primary Type_DECEPTIVE PRACTICE                                         0.255961\n",
       "District_11                                                             0.257435\n",
       "Location Description_SIDEWALK                                           0.260904\n",
       "Primary Type_ASSAULT                                                    0.275869\n",
       "Hour                                                                    0.287398\n",
       "Month                                                                   0.294727\n",
       "Day                                                                     0.296365\n",
       "Primary Type_CRIMINAL DAMAGE                                            0.312723\n",
       "Location Description_APARTMENT                                          0.353474\n",
       "Location Description_RESIDENCE                                          0.374852\n",
       "Domestic_True                                                           0.380068\n",
       "Arrest_True                                                             0.394082\n",
       "Primary Type_BATTERY                                                    0.396344\n",
       "Primary Type_THEFT                                                      0.415977\n",
       "Location Description_STREET                                             0.418986\n",
       "Length: 310, dtype: float64"
      ]
     },
     "execution_count": 5,
     "metadata": {},
     "output_type": "execute_result"
    }
   ],
   "source": [
    "#scale all variables to be between 0 and 1\n",
    "#iterate through all columns\n",
    "for c in crime_data.columns:\n",
    "    crime_data[c] = (crime_data[c]-crime_data[c].min())/(crime_data[c].max() - crime_data[c].min())\n",
    "\n",
    "crime_data.std().sort_values()"
   ]
  },
  {
   "cell_type": "code",
   "execution_count": 14,
   "metadata": {},
   "outputs": [],
   "source": [
    "import numpy as np\n",
    "\n",
    "X = crime_data.to_numpy()"
   ]
  },
  {
   "cell_type": "code",
   "execution_count": 7,
   "metadata": {},
   "outputs": [
    {
     "name": "stdout",
     "output_type": "stream",
     "text": [
      "Explained Variance: [0.06804528 0.05186419 0.04105904 0.04067145 0.03440662]\n",
      "Principal Component 1: \n",
      " (Negative) [(-0.4232308528325417, 'Primary Type_THEFT'), (-0.34466531309775117, 'Location Description_STREET'), (-0.055051122196440476, 'District_18'), (-0.05274887055829787, 'District_1'), (-0.05049980558321225, 'Primary Type_MOTOR VEHICLE THEFT')] \n",
      "\n",
      " (Positive) [(0.04323852171408746, 'Primary Type_OTHER OFFENSE'), (0.26558176996822014, 'Location Description_APARTMENT'), (0.26564573514925066, 'Location Description_RESIDENCE'), (0.5086961300569992, 'Primary Type_BATTERY'), (0.5141899714206152, 'Domestic_True')]\n"
     ]
    }
   ],
   "source": [
    "import sklearn\n",
    "from sklearn.decomposition import PCA\n",
    "\n",
    "pca = PCA(n_components=5) #find 2 principal components\n",
    "fit = pca.fit(X)\n",
    "print((\"Explained Variance: %s\") % (fit.explained_variance_ratio_))\n",
    "\n",
    "pc1, pc2, pc3, pc4, p5 = pca.components_\n",
    "\n",
    "weights1 = list(zip(pc1, crime_data.columns))\n",
    "weights1.sort()\n",
    "\n",
    "print('Principal Component 1: \\n (Negative)',weights1[:5], '\\n\\n (Positive)' ,weights1[-5:])"
   ]
  },
  {
   "cell_type": "code",
   "execution_count": 8,
   "metadata": {},
   "outputs": [
    {
     "name": "stdout",
     "output_type": "stream",
     "text": [
      "Arrest_True\n",
      "0.0    357271\n",
      "1.0     85042\n",
      "Name: Arrest_True, dtype: int64\n",
      "\n",
      "\n",
      "Month\n",
      "0.000000    0.228215\n",
      "0.090909    0.228362\n",
      "0.181818    0.211581\n",
      "0.272727    0.178392\n",
      "0.363636    0.186114\n",
      "0.454545    0.174765\n",
      "0.545455    0.178722\n",
      "0.636364    0.183204\n",
      "0.727273    0.179963\n",
      "0.818182    0.171622\n",
      "0.909091    0.197115\n",
      "1.000000    0.200608\n",
      "Name: Arrest_True, dtype: float64\n",
      "\n",
      "\n",
      "Month\n",
      "0.000000    39327\n",
      "0.090909    36429\n",
      "0.181818    36941\n",
      "0.272727    33746\n",
      "0.363636    41050\n",
      "0.454545    41015\n",
      "0.545455    44158\n",
      "0.636364    43940\n",
      "0.727273    39936\n",
      "0.818182    39389\n",
      "0.909091    25650\n",
      "1.000000    20732\n",
      "Name: Month, dtype: int64\n",
      "\n",
      "\n",
      "Hour\n",
      "0.000000    0.164518\n",
      "0.043478    0.204799\n",
      "0.086957    0.182526\n",
      "0.130435    0.163300\n",
      "0.173913    0.138677\n",
      "0.217391    0.115368\n",
      "0.260870    0.141762\n",
      "0.304348    0.142008\n",
      "0.347826    0.149607\n",
      "0.391304    0.156350\n",
      "0.434783    0.199502\n",
      "0.478261    0.224086\n",
      "0.521739    0.166249\n",
      "0.565217    0.191137\n",
      "0.608696    0.181208\n",
      "0.652174    0.173490\n",
      "0.695652    0.186259\n",
      "0.739130    0.193532\n",
      "0.782609    0.214398\n",
      "0.826087    0.247353\n",
      "0.869565    0.234152\n",
      "0.913043    0.225194\n",
      "0.956522    0.216994\n",
      "1.000000    0.229110\n",
      "Name: Arrest_True, dtype: float64\n",
      "\n",
      "\n",
      "Hour\n",
      "0.000000    22569\n",
      "0.043478    14004\n",
      "0.086957    12075\n",
      "0.130435    10000\n",
      "0.173913     7997\n",
      "0.217391     6839\n",
      "0.260870     7435\n",
      "0.304348    10098\n",
      "0.347826    14625\n",
      "0.391304    19450\n",
      "0.434783    20085\n",
      "0.478261    20510\n",
      "0.521739    26725\n",
      "0.565217    21461\n",
      "0.608696    22637\n",
      "0.652174    24255\n",
      "0.695652    24117\n",
      "0.739130    24306\n",
      "0.782609    24823\n",
      "0.826087    24273\n",
      "0.869565    23425\n",
      "0.913043    21386\n",
      "0.956522    21231\n",
      "1.000000    17987\n",
      "Name: Hour, dtype: int64\n",
      "0.05379465602771145\n",
      "-0.03139549758606995\n",
      "-0.004308291521252958\n"
     ]
    }
   ],
   "source": [
    "from sklearn.model_selection import train_test_split\n",
    "\n",
    "print(crime_data.groupby(['Arrest_True'])['Arrest_True'].count())\n",
    "print(\"\\n\")\n",
    "print(crime_data.groupby(['Month'])['Arrest_True'].mean())\n",
    "print(\"\\n\")\n",
    "print(crime_data.groupby(['Month'])['Month'].count())\n",
    "print(\"\\n\")\n",
    "print(crime_data.groupby(['Hour'])['Arrest_True'].mean())\n",
    "print(\"\\n\")\n",
    "print(crime_data.groupby(['Hour'])['Hour'].count())\n",
    "\n",
    "\n",
    "print(crime_data['Hour'].corr(crime_data['Arrest_True'], method='pearson'))\n",
    "print(crime_data['Month'].corr(crime_data['Arrest_True'], method='pearson'))\n",
    "print(crime_data['Day'].corr(crime_data['Arrest_True'], method='pearson'))"
   ]
  },
  {
   "cell_type": "code",
   "execution_count": 9,
   "metadata": {},
   "outputs": [
    {
     "name": "stderr",
     "output_type": "stream",
     "text": [
      "/anaconda3/lib/python3.7/site-packages/sklearn/linear_model/logistic.py:433: FutureWarning: Default solver will be changed to 'lbfgs' in 0.22. Specify a solver to silence this warning.\n",
      "  FutureWarning)\n"
     ]
    },
    {
     "name": "stdout",
     "output_type": "stream",
     "text": [
      "              precision    recall  f1-score   support\n",
      "\n",
      "         0.0       0.88      0.98      0.93     71402\n",
      "         1.0       0.82      0.46      0.59     17061\n",
      "\n",
      "   micro avg       0.88      0.88      0.88     88463\n",
      "   macro avg       0.85      0.72      0.76     88463\n",
      "weighted avg       0.87      0.88      0.86     88463\n",
      "\n"
     ]
    }
   ],
   "source": [
    "#Model stuff will go here \n",
    "\n",
    "from sklearn.linear_model import LinearRegression\n",
    "from sklearn.metrics import r2_score\n",
    "from sklearn.linear_model import LogisticRegression\n",
    "from sklearn.model_selection import train_test_split\n",
    "from sklearn.metrics import classification_report\n",
    "from sklearn.metrics import log_loss\n",
    "\n",
    "X1 = crime_data.drop(columns = ['Arrest_True'])\n",
    "y = crime_data['Arrest_True']\n",
    "\n",
    "\n",
    "def logmodel(X1):\n",
    "    X = X1.to_numpy() #defines the features\n",
    "    Y = y.to_numpy() #labels (or what we are predicting)\n",
    "\n",
    "    #create a testing dataset\n",
    "    X_train, X_test, Y_train, Y_test = train_test_split(X,Y,test_size=0.2,random_state=1)\n",
    "\n",
    "    log = LogisticRegression(max_iter=210000) #model that we use\n",
    "    log.fit(X_train,Y_train)\n",
    "    \n",
    "    Y_pred = log.predict(X_test) #evaluation and prediction\n",
    "    \n",
    "    print(classification_report(Y_test, Y_pred))\n",
    "    \n",
    "    \n",
    "logmodel(X1)\n"
   ]
  },
  {
   "cell_type": "code",
   "execution_count": 10,
   "metadata": {},
   "outputs": [],
   "source": [
    "# more examples from class below ..."
   ]
  },
  {
   "cell_type": "code",
   "execution_count": 11,
   "metadata": {},
   "outputs": [
    {
     "data": {
      "image/png": "[encoded data removed]",
      "text/plain": [
       "<Figure size 432x288 with 1 Axes>"
      ]
     },
     "metadata": {
      "needs_background": "light"
     },
     "output_type": "display_data"
    }
   ],
   "source": [
    "%matplotlib inline  \n",
    "\n",
    "import matplotlib.pyplot as plt\n",
    "\n",
    "Y = pca.transform(X)\n",
    "plt.scatter(Y[:,0], Y[:,1], alpha=0.1)\n",
    "plt.xlabel('PC1')\n",
    "plt.ylabel('PC2')\n",
    "plt.show()"
   ]
  },
  {
   "cell_type": "markdown",
   "metadata": {},
   "source": [
    "Let's try to interpret this figure a bit more. Let's see where all the \"Baathist\" Arab countries lie on this plot:"
   ]
  },
  {
   "cell_type": "code",
   "execution_count": 12,
   "metadata": {},
   "outputs": [
    {
     "ename": "NameError",
     "evalue": "name 'flag' is not defined",
     "output_type": "error",
     "traceback": [
      "\u001b[0;31m---------------------------------------------------------------------------\u001b[0m",
      "\u001b[0;31mNameError\u001b[0m                                 Traceback (most recent call last)",
      "\u001b[0;32m<ipython-input-12-f6da485f3bba>\u001b[0m in \u001b[0;36m<module>\u001b[0;34m\u001b[0m\n\u001b[1;32m      1\u001b[0m \u001b[0marab\u001b[0m \u001b[0;34m=\u001b[0m \u001b[0;34m[\u001b[0m\u001b[0;34m'Syria'\u001b[0m\u001b[0;34m,\u001b[0m \u001b[0;34m'Jordan'\u001b[0m\u001b[0;34m,\u001b[0m \u001b[0;34m'Kuwait'\u001b[0m\u001b[0;34m,\u001b[0m \u001b[0;34m'UAE'\u001b[0m\u001b[0;34m]\u001b[0m\u001b[0;34m\u001b[0m\u001b[0;34m\u001b[0m\u001b[0m\n\u001b[0;32m----> 2\u001b[0;31m \u001b[0marab_index\u001b[0m \u001b[0;34m=\u001b[0m \u001b[0;34m[\u001b[0m\u001b[0mlist\u001b[0m\u001b[0;34m(\u001b[0m\u001b[0mflag\u001b[0m\u001b[0;34m.\u001b[0m\u001b[0mindex\u001b[0m\u001b[0;34m.\u001b[0m\u001b[0mvalues\u001b[0m\u001b[0;34m)\u001b[0m\u001b[0;34m.\u001b[0m\u001b[0mindex\u001b[0m\u001b[0;34m(\u001b[0m\u001b[0ma\u001b[0m\u001b[0;34m)\u001b[0m \u001b[0;32mfor\u001b[0m \u001b[0ma\u001b[0m \u001b[0;32min\u001b[0m \u001b[0marab\u001b[0m\u001b[0;34m]\u001b[0m\u001b[0;34m\u001b[0m\u001b[0;34m\u001b[0m\u001b[0m\n\u001b[0m\u001b[1;32m      3\u001b[0m \u001b[0mplt\u001b[0m\u001b[0;34m.\u001b[0m\u001b[0mscatter\u001b[0m\u001b[0;34m(\u001b[0m\u001b[0mY\u001b[0m\u001b[0;34m[\u001b[0m\u001b[0;34m:\u001b[0m\u001b[0;34m,\u001b[0m\u001b[0;36m0\u001b[0m\u001b[0;34m]\u001b[0m\u001b[0;34m,\u001b[0m \u001b[0mY\u001b[0m\u001b[0;34m[\u001b[0m\u001b[0;34m:\u001b[0m\u001b[0;34m,\u001b[0m\u001b[0;36m1\u001b[0m\u001b[0;34m]\u001b[0m\u001b[0;34m)\u001b[0m\u001b[0;34m\u001b[0m\u001b[0;34m\u001b[0m\u001b[0m\n\u001b[1;32m      4\u001b[0m \u001b[0mplt\u001b[0m\u001b[0;34m.\u001b[0m\u001b[0mscatter\u001b[0m\u001b[0;34m(\u001b[0m\u001b[0mY\u001b[0m\u001b[0;34m[\u001b[0m\u001b[0marab_index\u001b[0m\u001b[0;34m,\u001b[0m\u001b[0;36m0\u001b[0m\u001b[0;34m]\u001b[0m\u001b[0;34m,\u001b[0m \u001b[0mY\u001b[0m\u001b[0;34m[\u001b[0m\u001b[0marab_index\u001b[0m\u001b[0;34m,\u001b[0m\u001b[0;36m1\u001b[0m\u001b[0;34m]\u001b[0m\u001b[0;34m,\u001b[0m\u001b[0mcolor\u001b[0m\u001b[0;34m=\u001b[0m\u001b[0;34m'r'\u001b[0m\u001b[0;34m)\u001b[0m\u001b[0;34m\u001b[0m\u001b[0;34m\u001b[0m\u001b[0m\n\u001b[1;32m      5\u001b[0m \u001b[0mplt\u001b[0m\u001b[0;34m.\u001b[0m\u001b[0mxlabel\u001b[0m\u001b[0;34m(\u001b[0m\u001b[0;34m'PC1'\u001b[0m\u001b[0;34m)\u001b[0m\u001b[0;34m\u001b[0m\u001b[0;34m\u001b[0m\u001b[0m\n",
      "\u001b[0;32m<ipython-input-12-f6da485f3bba>\u001b[0m in \u001b[0;36m<listcomp>\u001b[0;34m(.0)\u001b[0m\n\u001b[1;32m      1\u001b[0m \u001b[0marab\u001b[0m \u001b[0;34m=\u001b[0m \u001b[0;34m[\u001b[0m\u001b[0;34m'Syria'\u001b[0m\u001b[0;34m,\u001b[0m \u001b[0;34m'Jordan'\u001b[0m\u001b[0;34m,\u001b[0m \u001b[0;34m'Kuwait'\u001b[0m\u001b[0;34m,\u001b[0m \u001b[0;34m'UAE'\u001b[0m\u001b[0;34m]\u001b[0m\u001b[0;34m\u001b[0m\u001b[0;34m\u001b[0m\u001b[0m\n\u001b[0;32m----> 2\u001b[0;31m \u001b[0marab_index\u001b[0m \u001b[0;34m=\u001b[0m \u001b[0;34m[\u001b[0m\u001b[0mlist\u001b[0m\u001b[0;34m(\u001b[0m\u001b[0mflag\u001b[0m\u001b[0;34m.\u001b[0m\u001b[0mindex\u001b[0m\u001b[0;34m.\u001b[0m\u001b[0mvalues\u001b[0m\u001b[0;34m)\u001b[0m\u001b[0;34m.\u001b[0m\u001b[0mindex\u001b[0m\u001b[0;34m(\u001b[0m\u001b[0ma\u001b[0m\u001b[0;34m)\u001b[0m \u001b[0;32mfor\u001b[0m \u001b[0ma\u001b[0m \u001b[0;32min\u001b[0m \u001b[0marab\u001b[0m\u001b[0;34m]\u001b[0m\u001b[0;34m\u001b[0m\u001b[0;34m\u001b[0m\u001b[0m\n\u001b[0m\u001b[1;32m      3\u001b[0m \u001b[0mplt\u001b[0m\u001b[0;34m.\u001b[0m\u001b[0mscatter\u001b[0m\u001b[0;34m(\u001b[0m\u001b[0mY\u001b[0m\u001b[0;34m[\u001b[0m\u001b[0;34m:\u001b[0m\u001b[0;34m,\u001b[0m\u001b[0;36m0\u001b[0m\u001b[0;34m]\u001b[0m\u001b[0;34m,\u001b[0m \u001b[0mY\u001b[0m\u001b[0;34m[\u001b[0m\u001b[0;34m:\u001b[0m\u001b[0;34m,\u001b[0m\u001b[0;36m1\u001b[0m\u001b[0;34m]\u001b[0m\u001b[0;34m)\u001b[0m\u001b[0;34m\u001b[0m\u001b[0;34m\u001b[0m\u001b[0m\n\u001b[1;32m      4\u001b[0m \u001b[0mplt\u001b[0m\u001b[0;34m.\u001b[0m\u001b[0mscatter\u001b[0m\u001b[0;34m(\u001b[0m\u001b[0mY\u001b[0m\u001b[0;34m[\u001b[0m\u001b[0marab_index\u001b[0m\u001b[0;34m,\u001b[0m\u001b[0;36m0\u001b[0m\u001b[0;34m]\u001b[0m\u001b[0;34m,\u001b[0m \u001b[0mY\u001b[0m\u001b[0;34m[\u001b[0m\u001b[0marab_index\u001b[0m\u001b[0;34m,\u001b[0m\u001b[0;36m1\u001b[0m\u001b[0;34m]\u001b[0m\u001b[0;34m,\u001b[0m\u001b[0mcolor\u001b[0m\u001b[0;34m=\u001b[0m\u001b[0;34m'r'\u001b[0m\u001b[0;34m)\u001b[0m\u001b[0;34m\u001b[0m\u001b[0;34m\u001b[0m\u001b[0m\n\u001b[1;32m      5\u001b[0m \u001b[0mplt\u001b[0m\u001b[0;34m.\u001b[0m\u001b[0mxlabel\u001b[0m\u001b[0;34m(\u001b[0m\u001b[0;34m'PC1'\u001b[0m\u001b[0;34m)\u001b[0m\u001b[0;34m\u001b[0m\u001b[0;34m\u001b[0m\u001b[0m\n",
      "\u001b[0;31mNameError\u001b[0m: name 'flag' is not defined"
     ]
    }
   ],
   "source": [
    "arab = ['Syria', 'Jordan', 'Kuwait', 'UAE']\n",
    "arab_index = [list(flag.index.values).index(a) for a in arab]\n",
    "plt.scatter(Y[:,0], Y[:,1])\n",
    "plt.scatter(Y[arab_index,0], Y[arab_index,1],color='r')\n",
    "plt.xlabel('PC1')\n",
    "plt.ylabel('PC2')\n",
    "plt.show()"
   ]
  },
  {
   "cell_type": "markdown",
   "metadata": {},
   "source": [
    "Or we can look at all of the countries in northern europe"
   ]
  },
  {
   "cell_type": "code",
   "execution_count": null,
   "metadata": {},
   "outputs": [],
   "source": [
    "ne = ['Norway', 'Denmark', 'Finland', 'Iceland']\n",
    "ne_index = [list(flag.index.values).index(a) for a in ne]\n",
    "plt.scatter(Y[:,0], Y[:,1])\n",
    "plt.scatter(Y[ne_index,0], Y[ne_index,1],color='r')\n",
    "plt.xlabel('PC1')\n",
    "plt.ylabel('PC2')\n",
    "plt.show()"
   ]
  },
  {
   "cell_type": "markdown",
   "metadata": {},
   "source": [
    "## Clustering\n",
    "When we were playing around with the data we manually used data clusters that we roughly knew about to validate our model. How do we do this automatically? Clustering is the task of dividing the population or data points into a number of groups such that data points in the same groups are more similar to other data points in the same group than those in other groups. In particular, we will focus on a simple form of clustering called \"k-means\". k-means clustering aims to partition n observations into k clusters in which each observation belongs to the cluster with the nearest mean, serving as a prototype of the cluster. \n",
    "\n",
    "Again, the mathematical details are better left for a machine learning class but you can see how to use scikit-learn to do this:"
   ]
  },
  {
   "cell_type": "code",
   "execution_count": null,
   "metadata": {},
   "outputs": [],
   "source": [
    "from sklearn.cluster import KMeans\n",
    "kmeans = KMeans(n_clusters = 15) #break the data into 15 clusters\n",
    "kmeans.fit(X)"
   ]
  },
  {
   "cell_type": "code",
   "execution_count": null,
   "metadata": {},
   "outputs": [],
   "source": [
    "flag[kmeans.labels_ == 9]"
   ]
  },
  {
   "cell_type": "code",
   "execution_count": null,
   "metadata": {},
   "outputs": [],
   "source": [
    "flag[kmeans.labels_ == 6]"
   ]
  },
  {
   "cell_type": "code",
   "execution_count": null,
   "metadata": {},
   "outputs": [],
   "source": []
  },
  {
   "cell_type": "code",
   "execution_count": null,
   "metadata": {},
   "outputs": [],
   "source": []
  }
 ],
 "metadata": {
  "kernelspec": {
   "display_name": "Python 3",
   "language": "python",
   "name": "python3"
  }
 },
 "nbformat": 4,
 "nbformat_minor": 4
}
