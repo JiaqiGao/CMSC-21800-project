{
 "cells": [
  {
   "cell_type": "markdown",
   "metadata": {},
   "source": [
    "# Crime data in Chicago (January 1, 2010 to December 30, 2019)"
   ]
  },
  {
   "cell_type": "code",
   "execution_count": 19,
   "metadata": {},
   "outputs": [
    {
     "name": "stderr",
     "output_type": "stream",
     "text": [
      "/Users/rachaelhutson/opt/anaconda3/lib/python3.8/site-packages/IPython/core/interactiveshell.py:3146: DtypeWarning: Columns (21) have mixed types.Specify dtype option on import or set low_memory=False.\n",
      "  has_raised = await self.run_ast_nodes(code_ast.body, cell_name,\n"
     ]
    },
    {
     "data": {
      "text/plain": [
       "ID                        int64\n",
       "Case Number              object\n",
       "Date                     object\n",
       "Block                    object\n",
       "IUCR                     object\n",
       "Primary Type             object\n",
       "Description              object\n",
       "Location Description     object\n",
       "Arrest                     bool\n",
       "Domestic                   bool\n",
       "Beat                      int64\n",
       "District                float64\n",
       "Ward                    float64\n",
       "Community Area          float64\n",
       "FBI Code                 object\n",
       "X Coordinate            float64\n",
       "Y Coordinate            float64\n",
       "Year                      int64\n",
       "Updated On               object\n",
       "Latitude                float64\n",
       "Longitude               float64\n",
       "Location                 object\n",
       "dtype: object"
      ]
     },
     "execution_count": 19,
     "metadata": {},
     "output_type": "execute_result"
    }
   ],
   "source": [
    "import pandas as pd\n",
    "crime_data = pd.read_csv('crime_data.csv')\n",
    "crime_data.dtypes"
   ]
  },
  {
   "cell_type": "code",
   "execution_count": 20,
   "metadata": {},
   "outputs": [
    {
     "data": {
      "text/html": [
       "<div>\n",
       "<style scoped>\n",
       "    .dataframe tbody tr th:only-of-type {\n",
       "        vertical-align: middle;\n",
       "    }\n",
       "\n",
       "    .dataframe tbody tr th {\n",
       "        vertical-align: top;\n",
       "    }\n",
       "\n",
       "    .dataframe thead th {\n",
       "        text-align: right;\n",
       "    }\n",
       "</style>\n",
       "<table border=\"1\" class=\"dataframe\">\n",
       "  <thead>\n",
       "    <tr style=\"text-align: right;\">\n",
       "      <th></th>\n",
       "      <th>ID</th>\n",
       "      <th>Case Number</th>\n",
       "      <th>Date</th>\n",
       "      <th>Block</th>\n",
       "      <th>IUCR</th>\n",
       "      <th>Primary Type</th>\n",
       "      <th>Description</th>\n",
       "      <th>Location Description</th>\n",
       "      <th>Arrest</th>\n",
       "      <th>Domestic</th>\n",
       "      <th>...</th>\n",
       "      <th>Y Coordinate</th>\n",
       "      <th>Year</th>\n",
       "      <th>Updated On</th>\n",
       "      <th>Latitude</th>\n",
       "      <th>Longitude</th>\n",
       "      <th>Location</th>\n",
       "      <th>Month</th>\n",
       "      <th>Day</th>\n",
       "      <th>Year1</th>\n",
       "      <th>Hour</th>\n",
       "    </tr>\n",
       "  </thead>\n",
       "  <tbody>\n",
       "    <tr>\n",
       "      <th>7234248</th>\n",
       "      <td>24560</td>\n",
       "      <td>JC279072</td>\n",
       "      <td>05/26/2019 06:48:00 AM</td>\n",
       "      <td>013XX W HASTINGS ST</td>\n",
       "      <td>0110</td>\n",
       "      <td>HOMICIDE</td>\n",
       "      <td>FIRST DEGREE MURDER</td>\n",
       "      <td>CHA PARKING LOT</td>\n",
       "      <td>True</td>\n",
       "      <td>False</td>\n",
       "      <td>...</td>\n",
       "      <td>1893853.0</td>\n",
       "      <td>2019</td>\n",
       "      <td>06/20/2020 03:48:45 PM</td>\n",
       "      <td>41.864278</td>\n",
       "      <td>-87.659660</td>\n",
       "      <td>(41.864278228, -87.659660218)</td>\n",
       "      <td>5</td>\n",
       "      <td>26</td>\n",
       "      <td>2019</td>\n",
       "      <td>6</td>\n",
       "    </tr>\n",
       "    <tr>\n",
       "      <th>7234249</th>\n",
       "      <td>11707734</td>\n",
       "      <td>JC287730</td>\n",
       "      <td>07/01/2014 07:30:00 AM</td>\n",
       "      <td>063XX S NORMAL BLVD</td>\n",
       "      <td>1153</td>\n",
       "      <td>DECEPTIVE PRACTICE</td>\n",
       "      <td>FINANCIAL IDENTITY THEFT OVER $ 300</td>\n",
       "      <td>NaN</td>\n",
       "      <td>False</td>\n",
       "      <td>False</td>\n",
       "      <td>...</td>\n",
       "      <td>NaN</td>\n",
       "      <td>2014</td>\n",
       "      <td>06/02/2019 04:09:42 PM</td>\n",
       "      <td>NaN</td>\n",
       "      <td>NaN</td>\n",
       "      <td>NaN</td>\n",
       "      <td>7</td>\n",
       "      <td>1</td>\n",
       "      <td>2014</td>\n",
       "      <td>7</td>\n",
       "    </tr>\n",
       "    <tr>\n",
       "      <th>7234250</th>\n",
       "      <td>11707239</td>\n",
       "      <td>JC287563</td>\n",
       "      <td>11/30/2017 09:00:00 AM</td>\n",
       "      <td>022XX S KOSTNER AVE</td>\n",
       "      <td>1153</td>\n",
       "      <td>DECEPTIVE PRACTICE</td>\n",
       "      <td>FINANCIAL IDENTITY THEFT OVER $ 300</td>\n",
       "      <td>RESIDENCE</td>\n",
       "      <td>False</td>\n",
       "      <td>False</td>\n",
       "      <td>...</td>\n",
       "      <td>NaN</td>\n",
       "      <td>2017</td>\n",
       "      <td>06/02/2019 04:09:42 PM</td>\n",
       "      <td>NaN</td>\n",
       "      <td>NaN</td>\n",
       "      <td>NaN</td>\n",
       "      <td>11</td>\n",
       "      <td>30</td>\n",
       "      <td>2017</td>\n",
       "      <td>9</td>\n",
       "    </tr>\n",
       "    <tr>\n",
       "      <th>7234251</th>\n",
       "      <td>24559</td>\n",
       "      <td>JC278908</td>\n",
       "      <td>05/26/2019 02:11:00 AM</td>\n",
       "      <td>013XX W HASTINGS ST</td>\n",
       "      <td>0110</td>\n",
       "      <td>HOMICIDE</td>\n",
       "      <td>FIRST DEGREE MURDER</td>\n",
       "      <td>STREET</td>\n",
       "      <td>False</td>\n",
       "      <td>False</td>\n",
       "      <td>...</td>\n",
       "      <td>1893853.0</td>\n",
       "      <td>2019</td>\n",
       "      <td>06/20/2020 03:48:45 PM</td>\n",
       "      <td>41.864278</td>\n",
       "      <td>-87.659682</td>\n",
       "      <td>(41.864278357, -87.659682244)</td>\n",
       "      <td>5</td>\n",
       "      <td>26</td>\n",
       "      <td>2019</td>\n",
       "      <td>2</td>\n",
       "    </tr>\n",
       "  </tbody>\n",
       "</table>\n",
       "<p>4 rows × 26 columns</p>\n",
       "</div>"
      ],
      "text/plain": [
       "               ID Case Number                    Date                Block  \\\n",
       "7234248     24560    JC279072  05/26/2019 06:48:00 AM  013XX W HASTINGS ST   \n",
       "7234249  11707734    JC287730  07/01/2014 07:30:00 AM  063XX S NORMAL BLVD   \n",
       "7234250  11707239    JC287563  11/30/2017 09:00:00 AM  022XX S KOSTNER AVE   \n",
       "7234251     24559    JC278908  05/26/2019 02:11:00 AM  013XX W HASTINGS ST   \n",
       "\n",
       "         IUCR        Primary Type                          Description  \\\n",
       "7234248  0110            HOMICIDE                  FIRST DEGREE MURDER   \n",
       "7234249  1153  DECEPTIVE PRACTICE  FINANCIAL IDENTITY THEFT OVER $ 300   \n",
       "7234250  1153  DECEPTIVE PRACTICE  FINANCIAL IDENTITY THEFT OVER $ 300   \n",
       "7234251  0110            HOMICIDE                  FIRST DEGREE MURDER   \n",
       "\n",
       "        Location Description  Arrest  Domestic  ...  Y Coordinate  Year  \\\n",
       "7234248      CHA PARKING LOT    True     False  ...     1893853.0  2019   \n",
       "7234249                  NaN   False     False  ...           NaN  2014   \n",
       "7234250            RESIDENCE   False     False  ...           NaN  2017   \n",
       "7234251               STREET   False     False  ...     1893853.0  2019   \n",
       "\n",
       "                     Updated On   Latitude  Longitude  \\\n",
       "7234248  06/20/2020 03:48:45 PM  41.864278 -87.659660   \n",
       "7234249  06/02/2019 04:09:42 PM        NaN        NaN   \n",
       "7234250  06/02/2019 04:09:42 PM        NaN        NaN   \n",
       "7234251  06/20/2020 03:48:45 PM  41.864278 -87.659682   \n",
       "\n",
       "                              Location  Month  Day Year1  Hour  \n",
       "7234248  (41.864278228, -87.659660218)      5   26  2019     6  \n",
       "7234249                            NaN      7    1  2014     7  \n",
       "7234250                            NaN     11   30  2017     9  \n",
       "7234251  (41.864278357, -87.659682244)      5   26  2019     2  \n",
       "\n",
       "[4 rows x 26 columns]"
      ]
     },
     "execution_count": 20,
     "metadata": {},
     "output_type": "execute_result"
    }
   ],
   "source": [
    "import datetime\n",
    "\n",
    "cols_to_remove = list(crime_data)\n",
    "\n",
    "# Separating the date column into month, day, year, and time columns\n",
    "Months = []\n",
    "Days   = []\n",
    "Years  = []\n",
    "Hours  = []\n",
    "\n",
    "for row in crime_data['Date']:\n",
    "    d = datetime.datetime.strptime(row, '%m/%d/%Y %I:%M:%S %p')\n",
    "    Months.append(d.month)\n",
    "    Days.append(d.day)\n",
    "    Years.append(d.year)\n",
    "    Hours.append(d.hour)\n",
    "    \n",
    "crime_data['Month'] = Months\n",
    "crime_data['Day'] = Days\n",
    "crime_data['Year1'] = Years\n",
    "crime_data['Hour'] = Hours\n",
    "\n",
    "crime_data[-4:]"
   ]
  },
  {
   "cell_type": "code",
   "execution_count": 1,
   "metadata": {},
   "outputs": [
    {
     "name": "stdout",
     "output_type": "stream",
     "text": [
      "['Arrest', 'Location Description', 'Domestic', 'District', 'Primary Type', 'Community Area']\n"
     ]
    },
    {
     "ename": "NameError",
     "evalue": "name 'crime_data' is not defined",
     "output_type": "error",
     "traceback": [
      "\u001b[0;31m---------------------------------------------------------------------------\u001b[0m",
      "\u001b[0;31mNameError\u001b[0m                                 Traceback (most recent call last)",
      "\u001b[0;32m<ipython-input-1-ab48c56f456f>\u001b[0m in \u001b[0;36m<module>\u001b[0;34m\u001b[0m\n\u001b[1;32m      3\u001b[0m \u001b[0mprint\u001b[0m\u001b[0;34m(\u001b[0m\u001b[0mdiscrete_variables\u001b[0m\u001b[0;34m)\u001b[0m\u001b[0;34m\u001b[0m\u001b[0;34m\u001b[0m\u001b[0m\n\u001b[1;32m      4\u001b[0m \u001b[0;32mfor\u001b[0m \u001b[0mvariable\u001b[0m \u001b[0;32min\u001b[0m \u001b[0mdiscrete_variables\u001b[0m\u001b[0;34m:\u001b[0m\u001b[0;34m\u001b[0m\u001b[0;34m\u001b[0m\u001b[0m\n\u001b[0;32m----> 5\u001b[0;31m     \u001b[0;32mfor\u001b[0m \u001b[0mdtype\u001b[0m \u001b[0;32min\u001b[0m \u001b[0mcrime_data\u001b[0m\u001b[0;34m[\u001b[0m\u001b[0mvariable\u001b[0m\u001b[0;34m]\u001b[0m\u001b[0;34m.\u001b[0m\u001b[0mdropna\u001b[0m\u001b[0;34m(\u001b[0m\u001b[0;34m)\u001b[0m\u001b[0;34m.\u001b[0m\u001b[0munique\u001b[0m\u001b[0;34m(\u001b[0m\u001b[0;34m)\u001b[0m\u001b[0;34m:\u001b[0m\u001b[0;34m\u001b[0m\u001b[0;34m\u001b[0m\u001b[0m\n\u001b[0m\u001b[1;32m      6\u001b[0m         \u001b[0;32mif\u001b[0m \u001b[0;34m(\u001b[0m\u001b[0mdtype\u001b[0m \u001b[0;34m!=\u001b[0m \u001b[0;34m\"nan\"\u001b[0m\u001b[0;34m)\u001b[0m\u001b[0;34m:\u001b[0m\u001b[0;34m\u001b[0m\u001b[0;34m\u001b[0m\u001b[0m\n\u001b[1;32m      7\u001b[0m             \u001b[0mcrime_data\u001b[0m\u001b[0;34m[\u001b[0m\u001b[0mvariable\u001b[0m\u001b[0;34m+\u001b[0m\u001b[0;34m\"_\"\u001b[0m\u001b[0;34m+\u001b[0m\u001b[0mstr\u001b[0m\u001b[0;34m(\u001b[0m\u001b[0mdtype\u001b[0m\u001b[0;34m)\u001b[0m\u001b[0;34m]\u001b[0m  \u001b[0;34m=\u001b[0m \u001b[0;36m1\u001b[0m\u001b[0;34m*\u001b[0m\u001b[0;34m(\u001b[0m\u001b[0mcrime_data\u001b[0m\u001b[0;34m[\u001b[0m\u001b[0mvariable\u001b[0m\u001b[0;34m]\u001b[0m \u001b[0;34m==\u001b[0m \u001b[0mdtype\u001b[0m\u001b[0;34m)\u001b[0m\u001b[0;34m\u001b[0m\u001b[0;34m\u001b[0m\u001b[0m\n",
      "\u001b[0;31mNameError\u001b[0m: name 'crime_data' is not defined"
     ]
    }
   ],
   "source": [
    "# 1-hot encoding for: Arrest, Location Description, Domestic, District, Primary Type, Community Area\n",
    "discrete_variables = \"Arrest, Location Description, Domestic, District, Primary Type, Community Area\".split(\", \")\n",
    "print(discrete_variables)\n",
    "for variable in discrete_variables:\n",
    "    for dtype in crime_data[variable].dropna().unique():\n",
    "        if (dtype != \"nan\"):\n",
    "            crime_data[variable+\"_\"+str(dtype)]  = 1*(crime_data[variable] == dtype)\n",
    "\n",
    "print(cols_to_remove)            \n",
    "crime_data = crime_data.drop(columns=cols_to_remove)\n",
    "crime_data = crime_data.drop(columns=['Arrest_False','Domestic_False'])\n",
    "crime_data[-4:]\n"
   ]
  },
  {
   "cell_type": "code",
   "execution_count": null,
   "metadata": {},
   "outputs": [],
   "source": [
    "\n",
    "arr_true = crime_data[crime_data['Arrest_True'] == 1]\n",
    "ax = arr_true['Month'].plot.hist(bins=12)\n",
    "crime_data.std()"
   ]
  },
  {
   "cell_type": "code",
   "execution_count": null,
   "metadata": {},
   "outputs": [],
   "source": [
    "#scale all variables to be between 0 and 1\n",
    "#iterate through all columns\n",
    "for c in crime_data.columns:\n",
    "    print(c)\n",
    "    if c != 'Year1':\n",
    "        crime_data[c] = (crime_data[c]-crime_data[c].min())/(crime_data[c].max() - crime_data[c].min())\n",
    "\n",
    "crime_data.std().sort_values()"
   ]
  },
  {
   "cell_type": "code",
   "execution_count": null,
   "metadata": {},
   "outputs": [],
   "source": [
    "import numpy as np\n",
    "\n",
    "X = crime_data.to_numpy()"
   ]
  },
  {
   "cell_type": "code",
   "execution_count": null,
   "metadata": {},
   "outputs": [],
   "source": [
    "# run PCA analysis (this can probably be deleted)\n",
    "import sklearn\n",
    "from sklearn.decomposition import PCA\n",
    "\n",
    "pca = PCA(n_components=5) #find 2 principal components\n",
    "fit = pca.fit(X)\n",
    "print((\"Explained Variance: %s\") % (fit.explained_variance_ratio_))\n",
    "\n",
    "pc1, pc2, pc3, pc4, p5 = pca.components_\n",
    "\n",
    "weights1 = list(zip(pc1, crime_data.columns))\n",
    "weights1.sort()\n",
    "\n",
    "print('Principal Component 1: \\n (Negative)',weights1[:5], '\\n\\n (Positive)' ,weights1[-5:])"
   ]
  },
  {
   "cell_type": "code",
   "execution_count": null,
   "metadata": {},
   "outputs": [],
   "source": [
    "# evaluate different trends\n",
    "from sklearn.model_selection import train_test_split\n",
    "\n",
    "print(crime_data.groupby(['Arrest_True'])['Arrest_True'].count())\n",
    "print(\"\\n\")\n",
    "print(crime_data.groupby(['Month'])['Arrest_True'].mean())\n",
    "print(\"\\n\")\n",
    "print(crime_data.groupby(['Month'])['Month'].count())\n",
    "print(\"\\n\")\n",
    "print(crime_data.groupby(['Hour'])['Arrest_True'].mean())\n",
    "print(\"\\n\")\n",
    "print(crime_data.groupby(['Hour'])['Hour'].count())\n",
    "\n",
    "\n",
    "print(crime_data['Hour'].corr(crime_data['Arrest_True'], method='pearson'))\n",
    "print(crime_data['Month'].corr(crime_data['Arrest_True'], method='pearson'))\n",
    "print(crime_data['Day'].corr(crime_data['Arrest_True'], method='pearson'))"
   ]
  },
  {
   "cell_type": "code",
   "execution_count": null,
   "metadata": {
    "scrolled": false
   },
   "outputs": [],
   "source": [
    "# logistic regression model \n",
    "\n",
    "from sklearn.linear_model import LinearRegression\n",
    "from sklearn.metrics import r2_score\n",
    "from sklearn.linear_model import LogisticRegression\n",
    "from sklearn.model_selection import train_test_split\n",
    "from sklearn.metrics import classification_report\n",
    "from sklearn.metrics import log_loss\n",
    "\n",
    "def logmodel(X1, y, year):\n",
    "    X1.drop(columns = ['Year1'])\n",
    "    X = X1.to_numpy() #defines the features\n",
    "    Y = y.to_numpy() #labels (or what we are predicting)\n",
    "\n",
    "    #create a testing dataset\n",
    "    X_train, X_test, Y_train, Y_test = train_test_split(X,Y,test_size=0.2,random_state=1)\n",
    "\n",
    "    log = LogisticRegression(max_iter=210000) #model that we use\n",
    "    model = log.fit(X_train,Y_train)\n",
    "    \n",
    "    Y_pred = log.predict(X_test) #evaluation and prediction\n",
    "    \n",
    "    # print year\n",
    "    print(str(year)+\"\\n\")\n",
    "    \n",
    "    # print model fitting information\n",
    "    print(classification_report(Y_test, Y_pred))\n",
    "    \n",
    "    # print sorted weights corresponding to each feature\n",
    "    l = log.coef_\n",
    "    weights = list(zip(l[0], X1.columns))\n",
    "    weights.sort()\n",
    "    print(weights)\n",
    "    \n",
    "    \n",
    "M = crime_data\n",
    "\n",
    "# run model on each year\n",
    "i = 2020\n",
    "while i>2000:\n",
    "    X = M[M['Year1'] == i].drop(columns = ['Arrest_True'])\n",
    "    y = M[M['Year1'] == i]['Arrest_True']\n",
    "    logmodel(X,y,i)\n",
    "    i = i-1\n"
   ]
  },
  {
   "cell_type": "code",
   "execution_count": null,
   "metadata": {},
   "outputs": [],
   "source": [
    "\n",
    "\n"
   ]
  },
  {
   "cell_type": "code",
   "execution_count": null,
   "metadata": {},
   "outputs": [],
   "source": [
    "# more examples from class below ..."
   ]
  },
  {
   "cell_type": "code",
   "execution_count": null,
   "metadata": {},
   "outputs": [],
   "source": []
  },
  {
   "cell_type": "code",
   "execution_count": null,
   "metadata": {},
   "outputs": [],
   "source": [
    "%matplotlib inline  \n",
    "\n",
    "import matplotlib.pyplot as plt\n",
    "\n",
    "Y = pca.transform(X)\n",
    "plt.scatter(Y[:,0], Y[:,1], alpha=0.1)\n",
    "plt.xlabel('PC1')\n",
    "plt.ylabel('PC2')\n",
    "plt.show()"
   ]
  },
  {
   "cell_type": "markdown",
   "metadata": {},
   "source": [
    "Let's try to interpret this figure a bit more. Let's see where all the \"Baathist\" Arab countries lie on this plot:"
   ]
  },
  {
   "cell_type": "code",
   "execution_count": null,
   "metadata": {},
   "outputs": [],
   "source": [
    "arab = ['Syria', 'Jordan', 'Kuwait', 'UAE']\n",
    "arab_index = [list(flag.index.values).index(a) for a in arab]\n",
    "plt.scatter(Y[:,0], Y[:,1])\n",
    "plt.scatter(Y[arab_index,0], Y[arab_index,1],color='r')\n",
    "plt.xlabel('PC1')\n",
    "plt.ylabel('PC2')\n",
    "plt.show()"
   ]
  },
  {
   "cell_type": "markdown",
   "metadata": {},
   "source": [
    "Or we can look at all of the countries in northern europe"
   ]
  },
  {
   "cell_type": "code",
   "execution_count": null,
   "metadata": {},
   "outputs": [],
   "source": [
    "ne = ['Norway', 'Denmark', 'Finland', 'Iceland']\n",
    "ne_index = [list(flag.index.values).index(a) for a in ne]\n",
    "plt.scatter(Y[:,0], Y[:,1])\n",
    "plt.scatter(Y[ne_index,0], Y[ne_index,1],color='r')\n",
    "plt.xlabel('PC1')\n",
    "plt.ylabel('PC2')\n",
    "plt.show()"
   ]
  },
  {
   "cell_type": "markdown",
   "metadata": {},
   "source": [
    "## Clustering\n",
    "When we were playing around with the data we manually used data clusters that we roughly knew about to validate our model. How do we do this automatically? Clustering is the task of dividing the population or data points into a number of groups such that data points in the same groups are more similar to other data points in the same group than those in other groups. In particular, we will focus on a simple form of clustering called \"k-means\". k-means clustering aims to partition n observations into k clusters in which each observation belongs to the cluster with the nearest mean, serving as a prototype of the cluster. \n",
    "\n",
    "Again, the mathematical details are better left for a machine learning class but you can see how to use scikit-learn to do this:"
   ]
  },
  {
   "cell_type": "code",
   "execution_count": null,
   "metadata": {},
   "outputs": [],
   "source": [
    "from sklearn.cluster import KMeans\n",
    "kmeans = KMeans(n_clusters = 15) #break the data into 15 clusters\n",
    "kmeans.fit(X)"
   ]
  },
  {
   "cell_type": "code",
   "execution_count": null,
   "metadata": {},
   "outputs": [],
   "source": [
    "flag[kmeans.labels_ == 9]"
   ]
  },
  {
   "cell_type": "code",
   "execution_count": null,
   "metadata": {},
   "outputs": [],
   "source": [
    "flag[kmeans.labels_ == 6]"
   ]
  },
  {
   "cell_type": "code",
   "execution_count": null,
   "metadata": {},
   "outputs": [],
   "source": []
  },
  {
   "cell_type": "code",
   "execution_count": null,
   "metadata": {},
   "outputs": [],
   "source": []
  }
 ],
 "metadata": {
  "kernelspec": {
   "display_name": "Python 3",
   "language": "python",
   "name": "python3"
  },
  "language_info": {
   "codemirror_mode": {
    "name": "ipython",
    "version": 3
   },
   "file_extension": ".py",
   "mimetype": "text/x-python",
   "name": "python",
   "nbconvert_exporter": "python",
   "pygments_lexer": "ipython3",
   "version": "3.8.5"
  }
 },
 "nbformat": 4,
 "nbformat_minor": 4
}
